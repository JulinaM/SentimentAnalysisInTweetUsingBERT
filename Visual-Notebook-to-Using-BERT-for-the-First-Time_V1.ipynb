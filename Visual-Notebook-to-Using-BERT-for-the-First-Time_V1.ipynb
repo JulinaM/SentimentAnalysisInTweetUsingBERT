{
 "cells": [
  {
   "cell_type": "markdown",
   "metadata": {
    "colab_type": "text",
    "id": "izA3-6kffbdT"
   },
   "source": [
    "# Movie Reviews Part 2. \n",
    "\n",
    "Reference: Jay Alammer http://jalammar.github.io/a-visual-guide-to-using-bert-for-the-first-time/\n",
    "<br>\n",
    "## Overview\n",
    "<br>\n",
    "\n",
    "<table border = \"5\" align = \"center\">\n",
    "  <tr>\n",
    "    <th class=\"mdc-text-light-green-600\" style=\"text-align:left\">\n",
    "    Movie Reviews Part 1. \n",
    "    </th>\n",
    "    <th class=\"mdc-text-purple-600\">\n",
    "    Movie Reviews Part 2. \n",
    "    </th>\n",
    "  </tr>\n",
    "  <tr>\n",
    "    <td class=\"mdc-bg-light-green-50\" style=\"text-align:left\">\n",
    "      1. Data Processing\n",
    "    </td>\n",
    "    <td class=\"mdc-bg-purple-50\">\n",
    "      BERT and DistilBERT\n",
    "    </td>\n",
    "  </tr>\n",
    "  <tr>\n",
    "    <td class=\"mdc-bg-light-green-50\" style=\"text-align:left\">\n",
    "      2. Feature Extraction       \n",
    "    </td>\n",
    "    <td class=\"mdc-bg-purple-50\">\n",
    "      1. Tokenization\n",
    "    </td>\n",
    "  </tr>\n",
    "  <tr>\n",
    "    <td class=\"mdc-bg-light-green-50\" style=\"text-align:left\">\n",
    "      Bag of Words, Term Frequency, <p>Inverse Document Frequency\n",
    "    </td>\n",
    "    <td class=\"mdc-bg-purple-50\">\n",
    "      2. Logistic Regression\n",
    "    </td>\n",
    "  </tr>\n",
    "  <tr>\n",
    "    <td class=\"mdc-bg-light-green-50\" style=\"text-align:left\">\n",
    "      3. Word2Vec4\n",
    "    </td>\n",
    "    <td class=\"mdc-bg-purple-50\">\n",
    "      3. Make Decision\n",
    "    </td>\n",
    "  </tr>\n",
    "  <tr>\n",
    "    <td class=\"mdc-bg-light-green-50\" style=\"text-align:left\">\n",
    "     4. Build A Classifier, <p>Identify the sentiment\n",
    "    </td>\n",
    "    <td class=\"mdc-bg-purple-50\">\n",
    "      -\n",
    "    </td>\n",
    "  </tr>\n",
    "    \n",
    "    \n",
    "  <tr>\n",
    "    <td class=\"mdc-bg-light-green-50\" style=\"text-align:left\">\n",
    "     Packages used <p>Pandas \n",
    "        <p> Nltk \n",
    "        <p> scikit-learn\n",
    "        <p> Porter Stemmer\n",
    "    </td>\n",
    "    <td class=\"mdc-bg-purple-50\" style=\"text-align:right\">\n",
    "     Packages used <p>numpy\n",
    "        <p> pandas\n",
    "        <p> torch\n",
    "        <p> transformers\n",
    "        <p> LogisticRegression\n",
    "    </td>\n",
    "  </tr>\n",
    "</table>\n",
    "\n",
    "<br>\n",
    "\n",
    "BERT is Google's latest search algorithm as of Oct, 2019. \n",
    "    -searchengineland.com\n",
    "    \n",
    "BERT - <b>B</b>idirectional <b>E</b>ncoder <b>R</b>epresentations from <b>T</b>ransformers. \n",
    "\n",
    "<br>\n",
    "\n",
    "# A Visual Notebook to Using BERT for the First TIme.ipynb\n",
    "\n",
    "\n",
    "\n",
    "<img src=\"https://jalammar.github.io/images/distilBERT/bert-distilbert-sentence-classification.png\" />\n",
    "\n",
    "In this notebook, we will use pre-trained deep learning model to process some text. We will then use the output of that model to classify the text. The text is a list of sentences from film reviews. And we will calssify each sentence as either speaking \"positively\" about its subject of \"negatively\".\n",
    "\n",
    "## Models: Sentence Sentiment Classification\n",
    "Our goal is to create a model that takes a sentence (just like the ones in our dataset) and produces either 1 (indicating the sentence carries a positive sentiment) or a 0 (indicating the sentence carries a negative sentiment). We can think of it as looking like this:\n",
    "\n",
    "<img src=\"https://jalammar.github.io/images/distilBERT/sentiment-classifier-1.png\" />\n",
    "\n",
    "Under the hood, the model is actually made up of two model.\n",
    "\n",
    "* DistilBERT processes the sentence and passes along some information it extracted from it on to the next model. DistilBERT is a smaller version of BERT developed and open sourced by the team at HuggingFace. It’s a lighter and faster version of BERT that roughly matches its performance.\n",
    "* The next model, a basic Logistic Regression model from scikit learn will take in the result of DistilBERT’s processing, and classify the sentence as either positive or negative (1 or 0, respectively).\n",
    "\n",
    "The data we pass between the two models is a vector of size 768. We can think of this of vector as an embedding for the sentence that we can use for classification.\n",
    "\n",
    "\n",
    "<img src=\"https://jalammar.github.io/images/distilBERT/distilbert-bert-sentiment-classifier.png\" />\n",
    "\n",
    "## Dataset\n",
    "The dataset we will use in this example is [SST2](https://nlp.stanford.edu/sentiment/index.html), which contains sentences from movie reviews, each labeled as either positive (has the value 1) or negative (has the value 0):\n",
    "\n",
    "\n",
    "<table class=\"features-table\">\n",
    "  <tr>\n",
    "    <th class=\"mdc-text-light-green-600\">\n",
    "    sentence\n",
    "    </th>\n",
    "    <th class=\"mdc-text-purple-600\">\n",
    "    label\n",
    "    </th>\n",
    "  </tr>\n",
    "  <tr>\n",
    "    <td class=\"mdc-bg-light-green-50\" style=\"text-align:left\">\n",
    "      a stirring , funny and finally transporting re imagining of beauty and the beast and 1930s horror films\n",
    "    </td>\n",
    "    <td class=\"mdc-bg-purple-50\">\n",
    "      1\n",
    "    </td>\n",
    "  </tr>\n",
    "  <tr>\n",
    "    <td class=\"mdc-bg-light-green-50\" style=\"text-align:left\">\n",
    "      apparently reassembled from the cutting room floor of any given daytime soap\n",
    "    </td>\n",
    "    <td class=\"mdc-bg-purple-50\">\n",
    "      0\n",
    "    </td>\n",
    "  </tr>\n",
    "  <tr>\n",
    "    <td class=\"mdc-bg-light-green-50\" style=\"text-align:left\">\n",
    "      they presume their audience won't sit still for a sociology lesson\n",
    "    </td>\n",
    "    <td class=\"mdc-bg-purple-50\">\n",
    "      0\n",
    "    </td>\n",
    "  </tr>\n",
    "  <tr>\n",
    "    <td class=\"mdc-bg-light-green-50\" style=\"text-align:left\">\n",
    "      this is a visually stunning rumination on love , memory , history and the war between art and commerce\n",
    "    </td>\n",
    "    <td class=\"mdc-bg-purple-50\">\n",
    "      1\n",
    "    </td>\n",
    "  </tr>\n",
    "  <tr>\n",
    "    <td class=\"mdc-bg-light-green-50\" style=\"text-align:left\">\n",
    "      jonathan parker 's bartleby should have been the be all end all of the modern office anomie films\n",
    "    </td>\n",
    "    <td class=\"mdc-bg-purple-50\">\n",
    "      1\n",
    "    </td>\n",
    "  </tr>\n",
    "</table>\n",
    "\n",
    "## Installing the transformers library\n",
    "Let's start by installing the huggingface transformers library so we can load our deep learning NLP model."
   ]
  },
  {
   "cell_type": "code",
   "execution_count": 24,
   "metadata": {
    "colab": {
     "base_uri": "https://localhost:8080/",
     "height": 632
    },
    "colab_type": "code",
    "id": "To9ENLU90WGl",
    "outputId": "4b46c997-c16c-4141-eaf2-e7aa7da6d3a0"
   },
   "outputs": [
    {
     "name": "stdout",
     "output_type": "stream",
     "text": [
      "Requirement already satisfied: transformers in /usr/local/lib/python3.6/site-packages (2.3.0)\n",
      "Requirement already satisfied: requests in /usr/local/lib/python3.6/site-packages (from transformers) (2.20.1)\n",
      "Requirement already satisfied: sacremoses in /usr/local/lib/python3.6/site-packages (from transformers) (0.0.38)\n",
      "Requirement already satisfied: numpy in /usr/local/lib64/python3.6/site-packages (from transformers) (1.15.4)\n",
      "Requirement already satisfied: sentencepiece in /usr/local/lib64/python3.6/site-packages (from transformers) (0.1.85)\n",
      "Requirement already satisfied: boto3 in /usr/local/lib/python3.6/site-packages (from transformers) (1.9.82)\n",
      "Requirement already satisfied: regex!=2019.12.17 in /usr/local/lib64/python3.6/site-packages (from transformers) (2018.1.10)\n",
      "Requirement already satisfied: tqdm in /usr/local/lib/python3.6/site-packages (from transformers) (4.30.0)\n",
      "Requirement already satisfied: urllib3<1.25,>=1.21.1 in /usr/local/lib/python3.6/site-packages (from requests->transformers) (1.24.1)\n",
      "Requirement already satisfied: idna<2.8,>=2.5 in /usr/local/lib/python3.6/site-packages (from requests->transformers) (2.7)\n",
      "Requirement already satisfied: certifi>=2017.4.17 in /usr/local/lib/python3.6/site-packages (from requests->transformers) (2018.10.15)\n",
      "Requirement already satisfied: chardet<3.1.0,>=3.0.2 in /usr/local/lib/python3.6/site-packages (from requests->transformers) (3.0.4)\n",
      "Requirement already satisfied: joblib in /usr/local/lib/python3.6/site-packages (from sacremoses->transformers) (0.14.1)\n",
      "Requirement already satisfied: six in /usr/local/lib/python3.6/site-packages (from sacremoses->transformers) (1.11.0)\n",
      "Requirement already satisfied: click in /usr/local/lib64/python3.6/site-packages (from sacremoses->transformers) (7.0)\n",
      "Requirement already satisfied: botocore<1.13.0,>=1.12.82 in /usr/local/lib/python3.6/site-packages (from boto3->transformers) (1.12.82)\n",
      "Requirement already satisfied: s3transfer<0.2.0,>=0.1.10 in /usr/local/lib/python3.6/site-packages (from boto3->transformers) (0.1.13)\n",
      "Requirement already satisfied: jmespath<1.0.0,>=0.7.1 in /usr/local/lib/python3.6/site-packages (from boto3->transformers) (0.9.3)\n",
      "Requirement already satisfied: docutils>=0.10 in /usr/local/lib/python3.6/site-packages (from botocore<1.13.0,>=1.12.82->boto3->transformers) (0.14)\n",
      "Requirement already satisfied: python-dateutil<3.0.0,>=2.1; python_version >= \"2.7\" in /usr/local/lib/python3.6/site-packages (from botocore<1.13.0,>=1.12.82->boto3->transformers) (2.7.5)\n"
     ]
    }
   ],
   "source": [
    "!pip install transformers"
   ]
  },
  {
   "cell_type": "code",
   "execution_count": 25,
   "metadata": {
    "colab": {
     "base_uri": "https://localhost:8080/",
     "height": 63
    },
    "colab_type": "code",
    "id": "fvFvBLJV0Dkv",
    "outputId": "140119e5-4cee-4604-c0d2-be279c18b125"
   },
   "outputs": [],
   "source": [
    "import numpy as np\n",
    "import pandas as pd\n",
    "from sklearn.model_selection import train_test_split\n",
    "from sklearn.linear_model import LogisticRegression\n",
    "from sklearn.model_selection import GridSearchCV\n",
    "from sklearn.model_selection import cross_val_score\n",
    "import torch\n",
    "import transformers as ppb\n",
    "import warnings\n",
    "warnings.filterwarnings('ignore')"
   ]
  },
  {
   "cell_type": "markdown",
   "metadata": {
    "colab_type": "text",
    "id": "zQ-42fh0hjsF"
   },
   "source": [
    "## Importing the dataset\n",
    "We'll use pandas to read the dataset and load it into a dataframe."
   ]
  },
  {
   "cell_type": "code",
   "execution_count": 26,
   "metadata": {
    "colab": {},
    "colab_type": "code",
    "id": "cyoj29J24hPX"
   },
   "outputs": [],
   "source": [
    "df = pd.read_csv('/users/kent/jmaharja/olid_training-v3.0.tsv', delimiter='\\t', header=None)"
   ]
  },
  {
   "cell_type": "markdown",
   "metadata": {
    "colab_type": "text",
    "id": "dMVE3waNhuNj"
   },
   "source": [
    "For performance reasons, we'll only use 2,000 sentences from the dataset"
   ]
  },
  {
   "cell_type": "code",
   "execution_count": 27,
   "metadata": {
    "colab": {},
    "colab_type": "code",
    "id": "gTM3hOHW4hUY"
   },
   "outputs": [],
   "source": [
    "batch_1 = df[:100]"
   ]
  },
  {
   "cell_type": "markdown",
   "metadata": {
    "colab_type": "text",
    "id": "PRc2L89hh1Tf"
   },
   "source": [
    "We can ask pandas how many sentences are labeled as \"positive\" (value 1) and how many are labeled \"negative\" (having the value 0)"
   ]
  },
  {
   "cell_type": "code",
   "execution_count": 28,
   "metadata": {
    "colab": {
     "base_uri": "https://localhost:8080/",
     "height": 68
    },
    "colab_type": "code",
    "id": "jGvcfcCP5xpZ",
    "outputId": "4c4a8afc-1035-4b21-ba9a-c4bb6cfc6347"
   },
   "outputs": [
    {
     "data": {
      "text/plain": [
       "0    68\n",
       "1    32\n",
       "Name: 1, dtype: int64"
      ]
     },
     "execution_count": 28,
     "metadata": {},
     "output_type": "execute_result"
    }
   ],
   "source": [
    "batch_1[1].value_counts()"
   ]
  },
  {
   "cell_type": "markdown",
   "metadata": {
    "colab_type": "text",
    "id": "7_MO08_KiAOb"
   },
   "source": [
    "## Loading the Pre-trained BERT model\n",
    "Let's now load a pre-trained BERT model. "
   ]
  },
  {
   "cell_type": "code",
   "execution_count": 29,
   "metadata": {
    "colab": {
     "base_uri": "https://localhost:8080/",
     "height": 68
    },
    "colab_type": "code",
    "id": "q1InADgf5xm2",
    "outputId": "dbc52856-4d52-42f8-8a74-a89944280a02"
   },
   "outputs": [
    {
     "name": "stderr",
     "output_type": "stream",
     "text": [
      "I0313 15:54:03.561112 139871742134080 tokenization_utils.py:398] loading file https://s3.amazonaws.com/models.huggingface.co/bert/bert-base-uncased-vocab.txt from cache at /users/kent/jmaharja/.cache/torch/transformers/26bc1ad6c0ac742e9b52263248f6d0f00068293b33709fae12320c0e35ccfbbb.542ce4285a40d23a559526243235df47c5f75c197f04f37d1a0c124c32c9a084\n",
      "I0313 15:54:03.740257 139871742134080 configuration_utils.py:185] loading configuration file https://s3.amazonaws.com/models.huggingface.co/bert/distilbert-base-uncased-config.json from cache at /users/kent/jmaharja/.cache/torch/transformers/a41e817d5c0743e29e86ff85edc8c257e61bc8d88e4271bb1b243b6e7614c633.587f67ec28c540f4294c9c2ac7dcf7841ff371aeb12cdeb6a17f69da39ad9452\n",
      "I0313 15:54:03.741357 139871742134080 configuration_utils.py:199] Model config {\n",
      "  \"activation\": \"gelu\",\n",
      "  \"architectures\": [\n",
      "    \"DistilBertForMaskedLM\"\n",
      "  ],\n",
      "  \"attention_dropout\": 0.1,\n",
      "  \"dim\": 768,\n",
      "  \"dropout\": 0.1,\n",
      "  \"finetuning_task\": null,\n",
      "  \"hidden_dim\": 3072,\n",
      "  \"id2label\": {\n",
      "    \"0\": \"LABEL_0\",\n",
      "    \"1\": \"LABEL_1\"\n",
      "  },\n",
      "  \"initializer_range\": 0.02,\n",
      "  \"is_decoder\": false,\n",
      "  \"label2id\": {\n",
      "    \"LABEL_0\": 0,\n",
      "    \"LABEL_1\": 1\n",
      "  },\n",
      "  \"max_position_embeddings\": 512,\n",
      "  \"n_heads\": 12,\n",
      "  \"n_layers\": 6,\n",
      "  \"num_labels\": 2,\n",
      "  \"output_attentions\": false,\n",
      "  \"output_hidden_states\": false,\n",
      "  \"output_past\": true,\n",
      "  \"pruned_heads\": {},\n",
      "  \"qa_dropout\": 0.1,\n",
      "  \"seq_classif_dropout\": 0.2,\n",
      "  \"sinusoidal_pos_embds\": false,\n",
      "  \"tie_weights_\": true,\n",
      "  \"torchscript\": false,\n",
      "  \"use_bfloat16\": false,\n",
      "  \"vocab_size\": 30522\n",
      "}\n",
      "\n",
      "I0313 15:54:03.886171 139871742134080 modeling_utils.py:406] loading weights file https://s3.amazonaws.com/models.huggingface.co/bert/distilbert-base-uncased-pytorch_model.bin from cache at /users/kent/jmaharja/.cache/torch/transformers/7b8a8f0b21c4e7f6962451c9370a5d9af90372a5f64637a251f2de154d0fc72c.c2015533705b9dff680ae707e205a35e2860e8d148b45d35085419d74fe57ac5\n"
     ]
    }
   ],
   "source": [
    "# For DistilBERT:\n",
    "model_class, tokenizer_class, pretrained_weights = (ppb.DistilBertModel, ppb.DistilBertTokenizer, 'distilbert-base-uncased')\n",
    "\n",
    "## Want BERT instead of distilBERT? Uncomment the following line:\n",
    "#model_class, tokenizer_class, pretrained_weights = (ppb.BertModel, ppb.BertTokenizer, 'bert-base-uncased')\n",
    "\n",
    "# Load pretrained model/tokenizer\n",
    "tokenizer = tokenizer_class.from_pretrained(pretrained_weights)\n",
    "model = model_class.from_pretrained(pretrained_weights)"
   ]
  },
  {
   "cell_type": "markdown",
   "metadata": {
    "colab_type": "text",
    "id": "lZDBMn3wiSX6"
   },
   "source": [
    "Right now, the variable `model` holds a pretrained distilBERT model -- a version of BERT that is smaller, but much faster and requiring a lot less memory.\n",
    "\n",
    "## Model #1: Preparing the Dataset\n",
    "Before we can hand our sentences to BERT, we need to so some minimal processing to put them in the format it requires.\n",
    "\n",
    "### Tokenization\n",
    "Our first step is to tokenize the sentences -- break them up into word and subwords in the format BERT is comfortable with."
   ]
  },
  {
   "cell_type": "code",
   "execution_count": 30,
   "metadata": {
    "colab": {},
    "colab_type": "code",
    "id": "Dg82ndBA5xlN"
   },
   "outputs": [],
   "source": [
    "tokenized = batch_1[0].apply((lambda x: tokenizer.encode(x, add_special_tokens=True)))"
   ]
  },
  {
   "cell_type": "markdown",
   "metadata": {
    "colab_type": "text",
    "id": "mHwjUwYgi-uL"
   },
   "source": [
    "<img src=\"https://jalammar.github.io/images/distilBERT/bert-distilbert-tokenization-2-token-ids.png\" />\n",
    "\n",
    "### Padding\n",
    "After tokenization, `tokenized` is a list of sentences -- each sentences is represented as a list of tokens. We want BERT to process our examples all at once (as one batch). It's just faster that way. For that reason, we need to pad all lists to the same size, so we can represent the input as one 2-d array, rather than a list of lists (of different lengths)."
   ]
  },
  {
   "cell_type": "code",
   "execution_count": 31,
   "metadata": {
    "colab": {},
    "colab_type": "code",
    "id": "URn-DWJt5xhP"
   },
   "outputs": [],
   "source": [
    "max_len = 66\n",
    "for i in tokenized.values:\n",
    "    if len(i) > max_len:\n",
    "        max_len = len(i)\n",
    "\n",
    "padded = np.array([i + [0]*(max_len-len(i)) for i in tokenized.values])"
   ]
  },
  {
   "cell_type": "markdown",
   "metadata": {
    "colab_type": "text",
    "id": "Mdjg306wjjmL"
   },
   "source": [
    "Our dataset is now in the `padded` variable, we can view its dimensions below:"
   ]
  },
  {
   "cell_type": "code",
   "execution_count": 32,
   "metadata": {
    "colab": {
     "base_uri": "https://localhost:8080/",
     "height": 34
    },
    "colab_type": "code",
    "id": "jdi7uXo95xeq",
    "outputId": "be786022-e84f-4e28-8531-0143af2347bc"
   },
   "outputs": [
    {
     "data": {
      "text/plain": [
       "(100, 126)"
      ]
     },
     "execution_count": 32,
     "metadata": {},
     "output_type": "execute_result"
    }
   ],
   "source": [
    "np.array(padded).shape"
   ]
  },
  {
   "cell_type": "markdown",
   "metadata": {
    "colab_type": "text",
    "id": "sDZBsYSDjzDV"
   },
   "source": [
    "### Masking\n",
    "If we directly send `padded` to BERT, that would slightly confuse it. We need to create another variable to tell it to ignore (mask) the padding we've added when it's processing its input. That's what attention_mask is:"
   ]
  },
  {
   "cell_type": "code",
   "execution_count": 33,
   "metadata": {
    "colab": {
     "base_uri": "https://localhost:8080/",
     "height": 34
    },
    "colab_type": "code",
    "id": "4K_iGRNa_Ozc",
    "outputId": "d03b0a9b-1f6e-4e32-831e-b04f5389e57c"
   },
   "outputs": [
    {
     "data": {
      "text/plain": [
       "(100, 126)"
      ]
     },
     "execution_count": 33,
     "metadata": {},
     "output_type": "execute_result"
    }
   ],
   "source": [
    "attention_mask = np.where(padded != 0, 1, 0)\n",
    "attention_mask.shape"
   ]
  },
  {
   "cell_type": "markdown",
   "metadata": {
    "colab_type": "text",
    "id": "jK-CQB9-kN99"
   },
   "source": [
    "## Model #1: And Now, Deep Learning!\n",
    "Now that we have our model and inputs ready, let's run our model!\n",
    "\n",
    "The `model()` function runs our sentences through BERT. The results of the processing will be returned into `last_hidden_states`."
   ]
  },
  {
   "cell_type": "code",
   "execution_count": 34,
   "metadata": {
    "colab": {},
    "colab_type": "code",
    "id": "39UVjAV56PJz"
   },
   "outputs": [],
   "source": [
    "input_ids = torch.tensor(padded)  \n",
    "attention_mask = torch.tensor(attention_mask)\n",
    "\n",
    "with torch.no_grad():\n",
    "    last_hidden_states = model(input_ids, attention_mask=attention_mask)"
   ]
  },
  {
   "cell_type": "markdown",
   "metadata": {
    "colab_type": "text",
    "id": "FoCep_WVuB3v"
   },
   "source": [
    "Let's slice only the part of the output that we need. That is the output corresponding the first token of each sentence. The way BERT does sentence classification, is that it adds a token called `[CLS]` (for classification) at the beginning of every sentence. The output corresponding to that token can be thought of as an embedding for the entire sentence.\n",
    "\n",
    "<img src=\"https://jalammar.github.io/images/distilBERT/bert-output-tensor-selection.png\" />\n",
    "\n",
    "We'll save those in the `features` variable, as they'll serve as the features to our logitics regression model."
   ]
  },
  {
   "cell_type": "code",
   "execution_count": 35,
   "metadata": {
    "colab": {},
    "colab_type": "code",
    "id": "C9t60At16PVs"
   },
   "outputs": [],
   "source": [
    "features = last_hidden_states[0][:,0,:].numpy()"
   ]
  },
  {
   "cell_type": "markdown",
   "metadata": {
    "colab_type": "text",
    "id": "_VZVU66Gurr-"
   },
   "source": [
    "The labels indicating which sentence is positive and negative now go into the `labels` variable"
   ]
  },
  {
   "cell_type": "code",
   "execution_count": 36,
   "metadata": {
    "colab": {},
    "colab_type": "code",
    "id": "JD3fX2yh6PTx"
   },
   "outputs": [],
   "source": [
    "labels = batch_1[1]"
   ]
  },
  {
   "cell_type": "code",
   "execution_count": 60,
   "metadata": {},
   "outputs": [
    {
     "data": {
      "text/plain": [
       "array([[ 0.06616057, -0.21562211, -0.15828843, ..., -0.11972693,\n",
       "         0.28065437,  0.4224585 ],\n",
       "       [-0.07136511, -0.02891544,  0.12300549, ..., -0.2750946 ,\n",
       "         0.16843088,  0.3923589 ],\n",
       "       [-0.18865664, -0.10961684, -0.2722153 , ..., -0.1999513 ,\n",
       "         0.50759685,  0.45119885],\n",
       "       ...,\n",
       "       [-0.01398807, -0.11526507,  0.07259701, ..., -0.24692266,\n",
       "         0.31519768,  0.4025562 ],\n",
       "       [-0.05027853, -0.1265882 ,  0.01211426, ..., -0.3157476 ,\n",
       "         0.10798168,  0.5209839 ],\n",
       "       [-0.08448943, -0.04189255,  0.07106908, ..., -0.23778228,\n",
       "         0.21741365,  0.43480685]], dtype=float32)"
      ]
     },
     "execution_count": 60,
     "metadata": {},
     "output_type": "execute_result"
    }
   ],
   "source": [
    "features"
   ]
  },
  {
   "cell_type": "markdown",
   "metadata": {
    "colab_type": "text",
    "id": "iaoEvM2evRx1"
   },
   "source": [
    "## Model #2: Train/Test Split\n",
    "Let's now split our datset into a training set and testing set (even though we're using 2,000 sentences from the SST2 training set)."
   ]
  },
  {
   "cell_type": "code",
   "execution_count": 37,
   "metadata": {
    "colab": {},
    "colab_type": "code",
    "id": "ddAqbkoU6PP9"
   },
   "outputs": [],
   "source": [
    "train_features, test_features, train_labels, test_labels = train_test_split(features, labels)"
   ]
  },
  {
   "cell_type": "markdown",
   "metadata": {
    "colab_type": "text",
    "id": "B9bhSJpcv1Bl"
   },
   "source": [
    "### [Bonus] Grid Search for Parameters\n",
    "We can dive into Logistic regression directly with the Scikit Learn default parameters, but sometimes it's worth searching for the best value of the C parameter, which determines regularization strength."
   ]
  },
  {
   "cell_type": "code",
   "execution_count": 38,
   "metadata": {
    "colab": {},
    "colab_type": "code",
    "id": "cyEwr7yYD3Ci"
   },
   "outputs": [
    {
     "name": "stdout",
     "output_type": "stream",
     "text": [
      "best parameters:  {'C': 10.526405263157894}\n",
      "best scrores:  0.76\n"
     ]
    }
   ],
   "source": [
    " parameters = {'C': np.linspace(0.0001, 100, 20)}\n",
    " grid_search = GridSearchCV(LogisticRegression(), parameters)\n",
    " grid_search.fit(train_features, train_labels)\n",
    "\n",
    " print('best parameters: ', grid_search.best_params_)\n",
    " print('best scrores: ', grid_search.best_score_)"
   ]
  },
  {
   "cell_type": "markdown",
   "metadata": {
    "colab_type": "text",
    "id": "KCT9u8vAwnID"
   },
   "source": [
    "We now train the LogisticRegression model. If you've chosen to do the gridsearch, you can plug the value of C into the model declaration (e.g. `LogisticRegression(C=5.2)`)."
   ]
  },
  {
   "cell_type": "code",
   "execution_count": 39,
   "metadata": {
    "colab": {
     "base_uri": "https://localhost:8080/",
     "height": 102
    },
    "colab_type": "code",
    "id": "gG-EVWx4CzBc",
    "outputId": "9252ceff-a7d0-4359-fef9-2f72be89c7d6"
   },
   "outputs": [
    {
     "data": {
      "text/plain": [
       "LogisticRegression(C=1.0, class_weight=None, dual=False, fit_intercept=True,\n",
       "          intercept_scaling=1, max_iter=100, multi_class='warn',\n",
       "          n_jobs=None, penalty='l2', random_state=None, solver='warn',\n",
       "          tol=0.0001, verbose=0, warm_start=False)"
      ]
     },
     "execution_count": 39,
     "metadata": {},
     "output_type": "execute_result"
    }
   ],
   "source": [
    "lr_clf = LogisticRegression()\n",
    "lr_clf.fit(train_features, train_labels)"
   ]
  },
  {
   "cell_type": "markdown",
   "metadata": {
    "colab_type": "text",
    "id": "3rUMKuVgwzkY"
   },
   "source": [
    "<img src=\"http://127.0.0.1:4000/images/distilBERT/bert-training-logistic-regression.png\" />\n",
    "\n",
    "## Evaluating Model #2\n",
    "So how well does our model do in classifying sentences? One way is to check the accuracy against the testing dataset:"
   ]
  },
  {
   "cell_type": "code",
   "execution_count": 40,
   "metadata": {
    "colab": {
     "base_uri": "https://localhost:8080/",
     "height": 34
    },
    "colab_type": "code",
    "id": "iCoyxRJ7ECTA",
    "outputId": "cfd86dea-5d16-476c-ab9b-47cbee3a014f"
   },
   "outputs": [
    {
     "data": {
      "text/plain": [
       "0.72"
      ]
     },
     "execution_count": 40,
     "metadata": {},
     "output_type": "execute_result"
    }
   ],
   "source": [
    "lr_clf.score(test_features, test_labels)"
   ]
  },
  {
   "cell_type": "markdown",
   "metadata": {
    "colab_type": "text",
    "id": "75oyhr3VxHoE"
   },
   "source": [
    "How good is this score? What can we compare it against? Let's first look at a dummy classifier:"
   ]
  },
  {
   "cell_type": "code",
   "execution_count": 43,
   "metadata": {
    "colab": {
     "base_uri": "https://localhost:8080/",
     "height": 34
    },
    "colab_type": "code",
    "id": "lnwgmqNG7i5l",
    "outputId": "0042aed2-4fa8-4fa0-bf25-fdef70a10aac"
   },
   "outputs": [
    {
     "name": "stdout",
     "output_type": "stream",
     "text": [
      "Dummy classifier score: 0.480 (+/- 0.34)\n"
     ]
    }
   ],
   "source": [
    "from sklearn.dummy import DummyClassifier\n",
    "clf = DummyClassifier()\n",
    "\n",
    "scores = cross_val_score(clf, train_features, train_labels)\n",
    "print(\"Dummy classifier score: %0.3f (+/- %0.2f)\" % (scores.mean(), scores.std() * 2))"
   ]
  },
  {
   "cell_type": "markdown",
   "metadata": {
    "colab_type": "text",
    "id": "7Lg4LOpoxSOR"
   },
   "source": [
    "So our model clearly does better than a dummy classifier. But how does it compare against the best models?\n",
    "\n",
    "## Proper SST2 scores\n",
    "For reference, the [highest accuracy score](http://nlpprogress.com/english/sentiment_analysis.html) for this dataset is currently **96.8**. DistilBERT can be trained to improve its score on this task – a process called **fine-tuning** which updates BERT’s weights to make it achieve a better performance in this sentence classification task (which we can call the downstream task). The fine-tuned DistilBERT turns out to achieve an accuracy score of **90.7**. The full size BERT model achieves **94.9**.\n",
    "\n",
    "\n",
    "\n",
    "And that’s it! That’s a good first contact with BERT. The next step would be to head over to the documentation and try your hand at [fine-tuning](https://huggingface.co/transformers/examples.html#glue). You can also go back and switch from distilBERT to BERT and see how that works."
   ]
  },
  {
   "cell_type": "code",
   "execution_count": 107,
   "metadata": {
    "colab": {},
    "colab_type": "code",
    "id": "EJQuqV6cnWQu"
   },
   "outputs": [
    {
     "name": "stderr",
     "output_type": "stream",
     "text": [
      "I0313 16:49:46.129576 139871742134080 tokenization_utils.py:398] loading file https://s3.amazonaws.com/models.huggingface.co/bert/bert-base-uncased-vocab.txt from cache at /users/kent/jmaharja/.cache/torch/transformers/26bc1ad6c0ac742e9b52263248f6d0f00068293b33709fae12320c0e35ccfbbb.542ce4285a40d23a559526243235df47c5f75c197f04f37d1a0c124c32c9a084\n",
      "I0313 16:49:46.355584 139871742134080 configuration_utils.py:185] loading configuration file https://s3.amazonaws.com/models.huggingface.co/bert/distilbert-base-uncased-config.json from cache at /users/kent/jmaharja/.cache/torch/transformers/a41e817d5c0743e29e86ff85edc8c257e61bc8d88e4271bb1b243b6e7614c633.587f67ec28c540f4294c9c2ac7dcf7841ff371aeb12cdeb6a17f69da39ad9452\n",
      "I0313 16:49:46.356597 139871742134080 configuration_utils.py:199] Model config {\n",
      "  \"activation\": \"gelu\",\n",
      "  \"architectures\": [\n",
      "    \"DistilBertForMaskedLM\"\n",
      "  ],\n",
      "  \"attention_dropout\": 0.1,\n",
      "  \"dim\": 768,\n",
      "  \"dropout\": 0.1,\n",
      "  \"finetuning_task\": null,\n",
      "  \"hidden_dim\": 3072,\n",
      "  \"id2label\": {\n",
      "    \"0\": \"LABEL_0\",\n",
      "    \"1\": \"LABEL_1\"\n",
      "  },\n",
      "  \"initializer_range\": 0.02,\n",
      "  \"is_decoder\": false,\n",
      "  \"label2id\": {\n",
      "    \"LABEL_0\": 0,\n",
      "    \"LABEL_1\": 1\n",
      "  },\n",
      "  \"max_position_embeddings\": 512,\n",
      "  \"n_heads\": 12,\n",
      "  \"n_layers\": 6,\n",
      "  \"num_labels\": 2,\n",
      "  \"output_attentions\": false,\n",
      "  \"output_hidden_states\": false,\n",
      "  \"output_past\": true,\n",
      "  \"pruned_heads\": {},\n",
      "  \"qa_dropout\": 0.1,\n",
      "  \"seq_classif_dropout\": 0.2,\n",
      "  \"sinusoidal_pos_embds\": false,\n",
      "  \"tie_weights_\": true,\n",
      "  \"torchscript\": false,\n",
      "  \"use_bfloat16\": false,\n",
      "  \"vocab_size\": 30522\n",
      "}\n",
      "\n",
      "I0313 16:49:46.522304 139871742134080 modeling_utils.py:406] loading weights file https://s3.amazonaws.com/models.huggingface.co/bert/distilbert-base-uncased-pytorch_model.bin from cache at /users/kent/jmaharja/.cache/torch/transformers/7b8a8f0b21c4e7f6962451c9370a5d9af90372a5f64637a251f2de154d0fc72c.c2015533705b9dff680ae707e205a35e2860e8d148b45d35085419d74fe57ac5\n"
     ]
    }
   ],
   "source": [
    "from transformers import DistilBertTokenizer, DistilBertModel\n",
    "import torch\n",
    "\n",
    "# model_class, tokenizer_class, pretrained_weights = (ppb.DistilBertModel, ppb.DistilBertTokenizer, 'distilbert-base-uncased')\n",
    "\n",
    "tokenizer = DistilBertTokenizer.from_pretrained('distilbert-base-uncased')\n",
    "model = DistilBertModel.from_pretrained('distilbert-base-uncased')\n",
    "\n",
    "input_ids = torch.tensor(tokenizer.encode(\"4 out of 10 British people are basically full-on racists. 4 out of 10 voters vote for the Conservatives.\", add_special_tokens=True)).unsqueeze(0)  # Batch size 1\n",
    "outputs = model(input_ids)\n",
    "\n",
    "last_hidden_states = outputs[0]"
   ]
  },
  {
   "cell_type": "code",
   "execution_count": 108,
   "metadata": {},
   "outputs": [
    {
     "data": {
      "text/plain": [
       "torch.Size([1, 26, 768])"
      ]
     },
     "execution_count": 108,
     "metadata": {},
     "output_type": "execute_result"
    }
   ],
   "source": [
    "last_hidden_states.shape"
   ]
  },
  {
   "cell_type": "code",
   "execution_count": 109,
   "metadata": {},
   "outputs": [
    {
     "data": {
      "text/plain": [
       "((75, 768), (75,), torch.Size([1, 26, 768]))"
      ]
     },
     "execution_count": 109,
     "metadata": {},
     "output_type": "execute_result"
    }
   ],
   "source": [
    "train_features.shape, train_labels.shape, last_hidden_states.shape\n"
   ]
  },
  {
   "cell_type": "code",
   "execution_count": 110,
   "metadata": {},
   "outputs": [
    {
     "data": {
      "text/plain": [
       "(768,)"
      ]
     },
     "execution_count": 110,
     "metadata": {},
     "output_type": "execute_result"
    }
   ],
   "source": [
    "tst=last_hidden_states[0,0,:].detach().numpy()\n",
    "tst.shape"
   ]
  },
  {
   "cell_type": "code",
   "execution_count": 111,
   "metadata": {},
   "outputs": [
    {
     "data": {
      "text/plain": [
       "array([[-8.56884643e-02, -1.40881404e-01, -8.35748464e-02,\n",
       "        -2.47168854e-01, -5.37201345e-01,  1.89122230e-01,\n",
       "         4.67723399e-01,  4.03942049e-01, -2.37177238e-01,\n",
       "        -1.25505090e-01, -1.18157409e-01, -1.68360531e-01,\n",
       "        -3.33929718e-01,  2.21704654e-02,  1.16631716e-01,\n",
       "         3.53588223e-01, -2.39305213e-01,  3.84323508e-01,\n",
       "        -7.29244202e-02,  9.56797749e-02,  1.33756787e-01,\n",
       "         1.39616430e-02,  9.20621306e-02,  3.41346949e-01,\n",
       "         3.70616391e-02, -7.14157149e-02,  5.50542593e-01,\n",
       "        -2.95712829e-01, -2.14483708e-01, -1.64961711e-01,\n",
       "         4.38891239e-02,  4.45136309e-01, -2.91847855e-01,\n",
       "        -2.03525245e-01,  3.50762457e-01, -7.72072375e-02,\n",
       "         1.03549942e-01, -1.92743212e-01,  3.15360934e-01,\n",
       "         1.98491514e-01, -1.58912867e-01,  8.01379234e-03,\n",
       "         2.25487977e-01,  3.49239022e-01,  2.21860260e-02,\n",
       "        -1.10087276e-01, -2.92861319e+00,  2.57292271e-01,\n",
       "        -1.09352916e-01, -1.17407613e-01, -8.39532316e-02,\n",
       "         2.14579046e-01,  6.31653666e-02,  3.72827172e-01,\n",
       "         5.15573323e-01,  1.58370674e-01, -4.55293089e-01,\n",
       "        -9.63783413e-02, -3.01053941e-01,  2.31561214e-02,\n",
       "         2.95825839e-01,  2.88585782e-01, -4.26163346e-01,\n",
       "        -4.20104831e-01,  3.83335084e-01, -1.17134541e-01,\n",
       "        -1.07523799e-01,  5.71614325e-01, -4.15387005e-01,\n",
       "         1.63654923e-01, -3.96379083e-01, -3.11093360e-01,\n",
       "        -7.11417273e-02,  7.52902031e-03, -2.29908332e-01,\n",
       "        -6.42889738e-02, -1.81052119e-01,  5.42011142e-01,\n",
       "        -1.91176832e-01, -6.54019937e-02,  2.46054202e-01,\n",
       "         2.35883459e-01,  2.43892252e-01,  3.99037898e-01,\n",
       "         8.35731030e-02,  2.41762042e-01,  1.72183380e-01,\n",
       "        -9.45493355e-02,  1.55204117e-01,  5.82779646e-01,\n",
       "        -1.63693711e-01,  1.43309087e-01,  2.13480100e-01,\n",
       "         4.14402097e-01,  4.21274155e-01, -3.31741929e-01,\n",
       "         4.64146465e-01, -1.04975693e-01,  1.59129068e-01,\n",
       "         2.41386175e-01,  4.00702327e-01, -3.05492766e-02,\n",
       "         5.82583845e-01, -7.08407164e-01, -1.19049221e-01,\n",
       "        -4.18403476e-01, -3.74493390e-01, -5.80350161e-01,\n",
       "         9.69600230e-02, -1.62353814e+00,  3.37569177e-01,\n",
       "         3.42785805e-01, -8.67919028e-02, -4.75028962e-01,\n",
       "        -2.72771001e-01,  2.96588182e-01,  6.13101646e-02,\n",
       "        -3.65878224e-01,  8.73796046e-02,  8.92590731e-02,\n",
       "         6.59535229e-02,  6.20180964e-01, -4.48319077e-01,\n",
       "         2.31899116e-02, -1.30913585e-01,  3.92675161e-01,\n",
       "        -1.05303332e-01, -4.48521972e-02,  1.84912652e-01,\n",
       "         1.86819851e-01,  6.32553875e-01,  3.12887490e-01,\n",
       "        -1.98380426e-01, -3.25283259e-01, -2.58174449e-01,\n",
       "         2.84080863e-01,  5.17482042e-01,  1.64371189e-02,\n",
       "         2.89509833e-01,  2.04546615e-01, -1.69025481e-01,\n",
       "        -1.19934201e-01, -2.41160870e+00,  1.90334514e-01,\n",
       "         5.80011606e-01, -1.71419531e-01, -2.22641472e-02,\n",
       "        -8.96674097e-02, -1.93952098e-01, -3.42359900e-01,\n",
       "         6.85303807e-02,  7.62418360e-02, -6.86325729e-02,\n",
       "        -1.20905772e-01,  3.91409174e-03, -1.52380615e-02,\n",
       "        -2.01145597e-02, -2.20738783e-01,  4.34513122e-01,\n",
       "         4.42585766e-01,  4.06450599e-01, -7.14614272e-01,\n",
       "         3.25399071e-01,  1.15540847e-01,  3.72123271e-02,\n",
       "         2.71340013e-01,  3.13151687e-01,  2.38835588e-01,\n",
       "        -2.86522508e-03,  4.79193807e-01, -3.60702336e-01,\n",
       "        -2.21519262e-01,  9.76070225e-01, -3.87049347e-01,\n",
       "         5.96614182e-01,  6.94886297e-02, -1.60186976e-01,\n",
       "         1.99552879e-01,  1.05775684e-01,  1.87804624e-01,\n",
       "        -5.11391282e-01,  2.25738406e-01,  1.88889742e-01,\n",
       "         4.38281834e-01,  2.79230028e-01, -2.35149413e-01,\n",
       "         2.56915569e-01, -3.79968554e-01, -4.36556786e-02,\n",
       "         1.01739010e-02, -2.47492343e-02, -5.45562565e-01,\n",
       "        -1.63499698e-01, -1.98556408e-01,  1.42341822e-01,\n",
       "        -2.50671685e-01,  2.97203004e-01, -1.77426845e-01,\n",
       "         1.22960910e-01,  3.61612946e-01, -4.46071684e-01,\n",
       "        -5.42880744e-02, -5.40521629e-02, -2.27744952e-02,\n",
       "        -3.42150509e-01,  3.27296686e+00, -1.76716223e-02,\n",
       "        -2.69384310e-03,  1.71933994e-01,  3.81397605e-01,\n",
       "        -6.57364726e-02, -5.52397519e-02, -3.19255948e-01,\n",
       "         9.91889909e-02, -1.59263283e-01, -1.27971679e-01,\n",
       "         2.81792045e-01, -2.63002813e-01, -1.23806603e-01,\n",
       "         2.54600197e-02,  3.68402392e-01,  2.06455052e-01,\n",
       "         3.18687230e-01,  3.36753763e-02,  4.61615697e-02,\n",
       "         4.60142791e-01,  1.51372358e-01,  3.42138767e-01,\n",
       "         2.43811049e-02, -1.24681902e+00,  4.79457378e-01,\n",
       "         3.59983176e-01, -1.18654475e-01,  3.54752928e-01,\n",
       "        -3.85062814e-01, -2.69827098e-01, -4.27590832e-02,\n",
       "        -1.22030929e-01, -2.29114220e-02,  5.51959686e-03,\n",
       "         8.06932226e-02,  7.33520836e-02,  2.23151028e-01,\n",
       "        -1.28114089e-01, -5.20118952e-01,  2.61114776e-01,\n",
       "         1.62436396e-01,  1.13210522e-01,  1.13961726e-01,\n",
       "         2.40598455e-01,  4.68297780e-01, -5.53013086e-02,\n",
       "        -2.52104133e-01, -5.92986196e-02,  4.31789488e-01,\n",
       "         3.73017490e-01,  2.10549146e-01,  1.51608601e-01,\n",
       "        -5.55036888e-02, -1.06343210e-01, -4.77557361e-01,\n",
       "         1.00789994e-01, -1.93968657e-02,  1.25995696e-01,\n",
       "        -6.15497708e-01, -3.27562124e-01, -3.83828700e-01,\n",
       "        -2.08472162e-01, -1.67824887e-02, -2.80409992e-01,\n",
       "         1.03154525e-01, -1.45440614e-02, -1.97355986e-01,\n",
       "        -2.65579081e+00, -1.16135255e-02, -1.62246227e-01,\n",
       "         2.04881161e-01,  9.00133476e-02, -2.35053226e-02,\n",
       "         3.52434367e-02, -1.57618653e-02,  1.86177522e-01,\n",
       "        -6.67921543e-01,  3.80834609e-01,  2.00230941e-01,\n",
       "         2.19852462e-01,  2.65576631e-01, -8.84653091e-01,\n",
       "         4.58961576e-01,  6.34608865e-02,  4.60507348e-03,\n",
       "         1.22521862e-01, -1.98294744e-02, -3.06856751e-01,\n",
       "         9.43715051e-02,  1.54990077e-01,  3.19056772e-02,\n",
       "         9.71414074e-02,  2.97264397e-01, -3.38357836e-01,\n",
       "        -2.73738086e-01,  1.78501278e-01,  1.37662038e-01,\n",
       "         2.08988041e-01, -1.43019795e-01, -4.19459790e-02,\n",
       "        -2.56315172e-01, -2.90764511e-01, -3.52853847e+00,\n",
       "         5.27750373e-01, -2.98706830e-01,  7.35697895e-02,\n",
       "         4.24932837e-01, -2.72907838e-02,  5.59680939e-01,\n",
       "        -3.79520953e-01, -4.27217811e-01, -3.23298164e-02,\n",
       "        -1.43630639e-01, -3.44857313e-02, -1.04184180e-01,\n",
       "         2.90681809e-01,  2.55345047e-01,  2.26579398e-01,\n",
       "         5.51902235e-01, -3.08198094e-01,  4.60177869e-01,\n",
       "         1.84040785e-01,  1.28053918e-01, -2.94066258e-02,\n",
       "        -2.27825493e-01, -9.71934572e-03,  3.92613411e-01,\n",
       "         1.68903962e-01, -9.10828412e-02, -2.76072741e-01,\n",
       "         1.07183509e-01, -1.66517377e-01,  1.41139507e-01,\n",
       "        -3.99914235e-01,  1.86769053e-01, -7.53986835e-02,\n",
       "         9.80729461e-02, -3.34052086e-01,  8.82859156e-02,\n",
       "         2.81143099e-01,  7.53331706e-02, -4.17589247e-02,\n",
       "        -2.21759230e-01,  1.11088657e+00,  1.15931347e-01,\n",
       "         9.10884887e-03,  8.85469496e-01,  1.42174020e-01,\n",
       "        -3.60383242e-02, -1.24720290e-01, -3.28781664e-01,\n",
       "         2.64946334e-02,  6.91389441e-02,  3.37697953e-01,\n",
       "         9.97121215e-01,  1.07697949e-01, -7.13843480e-03,\n",
       "        -1.40557125e-01,  3.60833466e-01, -1.63343921e-02,\n",
       "        -4.03806150e-01,  1.48214608e-01,  1.68415278e-01,\n",
       "         4.76522185e-02,  1.48137063e-01, -4.08283323e-02,\n",
       "         1.80077821e-01, -3.28548014e-01,  1.57065503e-02,\n",
       "        -3.38044018e-01,  7.43438900e-02, -7.49712437e-02,\n",
       "        -2.35163033e-01, -1.44334938e-02, -7.08580390e-02,\n",
       "        -9.63664889e-01, -1.38962597e-01, -3.20804417e-01,\n",
       "         1.43337041e-01,  6.56366050e-02, -2.24619191e-02,\n",
       "         2.15497062e-01, -3.20123851e-01, -2.24237695e-01,\n",
       "        -2.47357473e-01,  1.54460311e-01, -3.36319238e-01,\n",
       "        -2.22332224e-01, -3.35010663e-02,  3.55080426e-01,\n",
       "        -5.18527865e-01, -2.28244126e-01, -2.91824460e-01,\n",
       "         3.02989557e-02, -1.72329992e-02, -9.28864032e-02,\n",
       "         1.40396297e-01,  1.08202934e-01,  2.11652309e-01,\n",
       "        -8.55609953e-01,  4.35276590e-02, -1.11161582e-02,\n",
       "         7.45503530e-02, -2.75684506e-01, -2.20703468e-01,\n",
       "        -1.69431925e-01, -1.45987108e-01, -3.73807102e-01,\n",
       "        -3.99062216e-01,  8.13879430e-01, -7.62212798e-02,\n",
       "         2.92782299e-02,  1.49320886e-01, -2.21999049e-01,\n",
       "        -2.82576885e-02,  9.30866003e-02,  9.49023247e-01,\n",
       "        -2.27329195e-01, -3.08477789e-01,  5.52111685e-01,\n",
       "         7.97202289e-02,  4.70096081e-01,  4.71736342e-01,\n",
       "         2.35933349e-01, -5.52209198e-01,  1.30102485e-02,\n",
       "        -5.62484264e-01, -9.58473459e-02, -1.88412100e-01,\n",
       "        -4.38994974e-01, -1.50408328e-01, -1.78589702e-01,\n",
       "        -9.91654955e-03, -6.01316839e-02, -2.00725317e-01,\n",
       "        -5.55636168e-01,  9.94983315e-02, -1.75063848e-01,\n",
       "        -2.06607491e-01,  4.44108635e-01,  1.62726745e-01,\n",
       "        -6.42289892e-02,  4.96484786e-01,  7.66578913e-02,\n",
       "         1.57948732e-01,  1.42071843e-01,  1.31643116e-02,\n",
       "         2.43672296e-01,  3.34429264e-01,  1.38870627e-01,\n",
       "        -1.47727489e-01,  1.08502425e-01,  1.80513859e-01,\n",
       "         3.24981123e-01,  1.97831392e-01, -2.99352705e-01,\n",
       "         5.90332925e-01,  2.73790434e-02,  3.48107293e-02,\n",
       "         4.78210926e-01, -6.62775561e-02, -4.30905163e-01,\n",
       "         1.55320793e-01,  4.00985122e-01, -1.56323862e+00,\n",
       "         3.87144268e-01,  2.41034120e-01, -8.51917639e-02,\n",
       "        -1.27245933e-01, -6.33377582e-04, -1.09679475e-01,\n",
       "         4.36454624e-01,  4.51838911e-01,  8.70217830e-02,\n",
       "        -2.16367304e-01, -2.13467345e-01, -1.31211102e-01,\n",
       "        -2.38614500e-01, -7.95030147e-02, -9.36675146e-02,\n",
       "        -6.32147312e-01, -2.23359108e-01, -1.06923189e-02,\n",
       "         2.93372661e-01, -3.38492781e-01,  4.17485386e-01,\n",
       "         1.20827734e-01,  2.92097479e-02,  1.75018664e-02,\n",
       "        -8.43954533e-02,  1.41817570e-01,  5.39060235e-02,\n",
       "         3.78475368e-01,  4.17936683e-01,  2.33261883e-02,\n",
       "        -5.02038717e-01, -1.03252506e+00,  8.70670229e-02,\n",
       "         7.61595219e-02, -2.83655599e-02,  5.94032556e-02,\n",
       "         1.44894868e-02,  3.27245951e-01,  3.20482880e-01,\n",
       "        -3.86745960e-01,  2.50903040e-01,  4.00078371e-02,\n",
       "         2.77337320e-02,  4.50973481e-01, -1.97487950e-01,\n",
       "        -3.60402375e-01,  2.89586633e-01,  3.09383888e-02,\n",
       "        -2.91794926e-01, -2.13641196e-01, -7.78883994e-02,\n",
       "        -1.94824919e-01, -2.06163108e-01, -2.19647422e-01,\n",
       "        -1.89878047e-03,  3.49679254e-02,  2.72074431e-01,\n",
       "        -5.65089464e-01, -1.68054938e-01,  1.92205697e-01,\n",
       "        -2.25924298e-01, -7.86553472e-02,  4.57889020e-01,\n",
       "        -2.09514648e-01, -6.56679511e-01, -1.55255437e-01,\n",
       "        -3.15022409e-01, -1.70827374e-01, -3.56890485e-02,\n",
       "         3.42030197e-01,  8.30960944e-02, -3.44528466e-01,\n",
       "         5.63115239e-01, -4.69046056e-01,  1.61706120e-01,\n",
       "         8.76841694e-02, -9.73987952e-02, -2.67767068e-02,\n",
       "        -9.87404287e-02,  8.12261999e-02, -6.24850392e-01,\n",
       "         2.92274415e-01,  3.41646761e-01, -1.96429510e-02,\n",
       "         3.40651542e-01, -4.71253842e-01, -3.94025892e-02,\n",
       "         4.86592278e-02,  3.96240562e-01, -1.63511723e-01,\n",
       "        -3.92115384e-01, -2.17833027e-01, -2.66408801e-01,\n",
       "         9.27753076e-02, -5.96968412e-01, -4.06524763e-02,\n",
       "        -2.00655863e-01, -1.46580890e-01, -4.09170181e-01,\n",
       "         2.11032167e-01,  3.79302770e-01, -1.92159303e-02,\n",
       "        -6.43822923e-03,  2.91075230e-01,  2.17562675e-01,\n",
       "        -3.88889536e-02, -2.75089294e-02, -3.95285130e-01,\n",
       "         1.72892176e-02,  1.29215971e-01, -7.15203732e-02,\n",
       "         1.33070290e-01, -1.23093259e-02,  9.50021371e-02,\n",
       "        -1.96091533e-01, -2.43670121e-01, -4.00406599e-01,\n",
       "         1.46934438e+00,  3.80828738e-01,  3.51532549e-02,\n",
       "        -3.30465734e-02,  2.94719815e-01, -1.52820438e-01,\n",
       "         8.54214430e-02,  6.59517467e-01, -4.45792586e-01,\n",
       "         5.90822697e-02,  3.47869508e-02, -2.97771633e-01,\n",
       "         3.87528166e-03,  1.20739855e-01,  7.82162026e-02,\n",
       "         4.19285625e-01, -3.34620357e-01, -3.25180978e-01,\n",
       "        -5.70424914e-01, -1.72096565e-01, -5.13426244e-01,\n",
       "         6.48062408e-01,  3.69992405e-01,  2.00091720e-01,\n",
       "         5.53736836e-03,  2.35422909e-01,  1.18550465e-01,\n",
       "        -3.00119281e-01,  3.95783424e-01,  2.75459230e-01,\n",
       "        -8.66588112e-03,  2.45614335e-01,  3.39805573e-01,\n",
       "         2.51830459e-01, -1.43459260e-01, -5.23373559e-02,\n",
       "         5.12105227e-01, -3.07333529e-01,  1.38057545e-02,\n",
       "         3.14771831e-01,  1.17613047e-01,  4.17603627e-02,\n",
       "         1.74891382e-01, -2.13390633e-01,  3.44101250e-01,\n",
       "         4.57446635e-01,  7.17870370e-02, -7.66687393e-02,\n",
       "         4.54242289e-01,  5.54708779e-01, -4.55673367e-01,\n",
       "         5.68984449e-01, -2.31090516e-01,  2.92878449e-01,\n",
       "        -2.47092754e-01, -4.01941895e-01, -4.16487873e-01,\n",
       "         1.34321675e-01,  1.76728994e-01,  2.97250390e-01,\n",
       "         2.25170255e-02,  2.11485505e-01, -5.03707305e-02,\n",
       "        -2.30722487e-01,  9.98622701e-02,  1.16026543e-01,\n",
       "        -6.92821622e-01,  2.22403377e-01,  3.99967879e-01,\n",
       "        -1.08867198e-01,  1.87381789e-01,  3.51770818e-01,\n",
       "         4.75856178e-02,  2.28742719e-01,  3.06929827e-01,\n",
       "         2.06638515e-01,  5.01217484e-01,  3.90516520e-01,\n",
       "        -4.88836318e-04, -1.82576668e+00,  1.36188701e-01,\n",
       "         4.09532301e-02,  1.50808319e-01, -2.22882465e-01,\n",
       "         3.86155874e-01,  1.76805973e-01, -1.84041992e-01,\n",
       "         9.34201479e-02, -4.25512403e-01,  3.12243164e-01,\n",
       "         3.10107380e-01, -1.74950659e-02,  1.30858123e-01,\n",
       "        -5.52666709e-02, -6.32601082e-02,  2.39490643e-02,\n",
       "        -2.87813514e-01, -4.40530747e-01, -3.40135872e-01,\n",
       "        -1.33839875e-01,  3.60386297e-02, -1.84228905e-02,\n",
       "        -4.07215863e-01, -2.45203212e-01,  6.06966503e-02,\n",
       "         2.09445193e-01, -4.69809771e-01, -1.19844019e-01,\n",
       "        -1.01593360e-01,  2.18541965e-01,  2.20075324e-01,\n",
       "        -2.63335884e-01,  6.78338036e-02, -2.46476591e-01,\n",
       "        -3.61937523e-01, -3.11957598e-01, -1.28462732e-01,\n",
       "         5.46485931e-02,  1.35997623e-01, -1.58416256e-01,\n",
       "         7.40063906e-01,  3.50666404e-01, -2.12465273e-03,\n",
       "        -5.10415435e-02,  1.39850918e-02,  1.53742045e-01,\n",
       "        -3.88325751e-01,  2.02954322e-01, -2.70125806e-01,\n",
       "        -9.53085944e-02, -6.65589422e-02,  3.84499691e-02,\n",
       "         1.02275819e-01,  2.22816356e-02,  2.27846012e-01,\n",
       "         1.29177094e-01,  3.24003726e-01, -2.27960005e-01,\n",
       "        -2.31843531e-01,  1.74847066e-01,  6.99458271e-02,\n",
       "        -5.12105644e-01,  3.11185755e-02,  5.00439964e-02,\n",
       "        -9.48737487e-02, -1.44724190e-01,  4.18358445e-01,\n",
       "        -6.75320625e-02, -3.56090188e-01,  5.53212129e-04,\n",
       "        -2.52859741e-01,  1.95092395e-01,  3.93756956e-01,\n",
       "        -1.68424651e-01, -1.97827786e-01,  2.60606050e-01,\n",
       "         3.59355450e-01,  2.92227715e-02, -4.23928052e-01,\n",
       "        -9.10970792e-02, -2.86792628e-02, -5.06578684e-01,\n",
       "        -2.03642532e-01,  2.28465781e-01, -4.90910244e+00,\n",
       "        -2.00564981e-01,  1.29523054e-02, -3.29627395e-01,\n",
       "        -4.69538942e-02, -1.90557435e-01, -3.79260629e-03,\n",
       "         9.37426277e-03,  6.15530983e-02, -3.62015665e-01,\n",
       "         3.66604537e-01, -9.12508070e-02, -7.86831751e-02,\n",
       "        -2.87395835e-01,  4.66075808e-01,  4.56905037e-01]], dtype=float32)"
      ]
     },
     "execution_count": 111,
     "metadata": {},
     "output_type": "execute_result"
    }
   ],
   "source": [
    "temp = np.array(tst).reshape((1, -1))\n",
    "temp"
   ]
  },
  {
   "cell_type": "code",
   "execution_count": 113,
   "metadata": {},
   "outputs": [
    {
     "data": {
      "text/plain": [
       "0"
      ]
     },
     "execution_count": 113,
     "metadata": {},
     "output_type": "execute_result"
    }
   ],
   "source": [
    "lr_clf.predict(temp)[0]"
   ]
  },
  {
   "cell_type": "code",
   "execution_count": null,
   "metadata": {},
   "outputs": [],
   "source": []
  },
  {
   "cell_type": "code",
   "execution_count": null,
   "metadata": {},
   "outputs": [],
   "source": []
  }
 ],
 "metadata": {
  "colab": {
   "machine_shape": "hm",
   "name": "Copy of A Visual Notebook to Using BERT for the First Time.ipynb",
   "provenance": [
    {
     "file_id": "https://github.com/jalammar/jalammar.github.io/blob/master/notebooks/bert/A_Visual_Notebook_to_Using_BERT_for_the_First_Time.ipynb",
     "timestamp": 1583175676531
    }
   ]
  },
  "kernelspec": {
   "display_name": "Python 3",
   "language": "python",
   "name": "python3"
  },
  "language_info": {
   "codemirror_mode": {
    "name": "ipython",
    "version": 3
   },
   "file_extension": ".py",
   "mimetype": "text/x-python",
   "name": "python",
   "nbconvert_exporter": "python",
   "pygments_lexer": "ipython3",
   "version": "3.7.4"
  }
 },
 "nbformat": 4,
 "nbformat_minor": 1
}
